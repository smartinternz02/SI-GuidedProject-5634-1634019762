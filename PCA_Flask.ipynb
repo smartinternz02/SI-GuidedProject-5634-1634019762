{
 "cells": [
  {
   "cell_type": "code",
   "execution_count": null,
   "metadata": {},
   "outputs": [],
   "source": [
    "from flask import Flask,request,render_template\n",
    "import numpy as np\n",
    "import pandas as pd\n",
    "import pickle\n",
    "import os\n",
    "app = Flask(__name__)\n",
    "model = pickle.load(open('PCA_model.pkl', 'rb'))\n",
    "@app.route('/')\n",
    "def home():\n",
    "    return render_template(\"pca.html\")\n",
    "@app.route('/predict',methods=[\"POST\",\"GET\"])\n",
    "\n",
    "def predict():\n",
    "    input_features = [float(x) for x in request.form.values()]\n",
    "    features_value = [np.array(input_features)]\n",
    "    \n",
    "    features_name = ['Global_reactive_power', 'Global_intensity', 'Sub_metering_1',\n",
    "                     \n",
    "       'Sub_metering_2', 'Sub_metering_3']\n",
    "    \n",
    "    df = pd.DataFrame(features_value, columns=features_name)\n",
    "    output = model.predict(df)\n",
    "        \n",
    "\n",
    "    return render_template('result1.html', prediction_text=output)\n",
    "if __name__==\"__main__\":\n",
    "    #port = int(os.getenv('PORT', 8080))\n",
    "    #app.run(host='0.0.0.0', port=port, debug=False)\n",
    "    app.run(debug=False)"
   ]
  },
  {
   "cell_type": "code",
   "execution_count": null,
   "metadata": {},
   "outputs": [],
   "source": []
  }
 ],
 "metadata": {
  "kernelspec": {
   "display_name": "Python 3",
   "language": "python",
   "name": "python3"
  },
  "language_info": {
   "codemirror_mode": {
    "name": "ipython",
    "version": 3
   },
   "file_extension": ".py",
   "mimetype": "text/x-python",
   "name": "python",
   "nbconvert_exporter": "python",
   "pygments_lexer": "ipython3",
   "version": "3.7.6"
  }
 },
 "nbformat": 4,
 "nbformat_minor": 4
}
